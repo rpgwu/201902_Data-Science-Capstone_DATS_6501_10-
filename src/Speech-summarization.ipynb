{
 "cells": [
  {
   "cell_type": "markdown",
   "metadata": {},
   "source": [
    "<h1 align=\"center\"> \n",
    "201902_Data Science Capstone_DATS_6501_10\n",
    "</h1> \n",
    "\n",
    "<h4 align=\"center\"> \n",
    "Author: Rajeev.Parvathaneni ([rajeev@gwu.edu](mailto:rajeev@gwu.edu))\n",
    "</h4>"
   ]
  },
  {
   "cell_type": "markdown",
   "metadata": {
    "_cell_guid": "b1076dfc-b9ad-4769-8c92-a6c4dae69d19",
    "_uuid": "8f2839f25d086af736a60e9eeb907d3b93b6e0e5"
   },
   "source": [
    "\n",
    " I will try to make simple text summarizer that will summarize given Presedential speeches. The summarized reviews can be used as a reviews title also.I will use Spacy as natural language processing library for handling this project.\n",
    " In this program i  using basic NLP tools Spacy, NLTK & some python packages.( not using Nueral Networks , Tensorflow etc .. yet ) . "
   ]
  },
  {
   "cell_type": "markdown",
   "metadata": {
    "_uuid": "8bd7a67c45605283a384c7ed3f1108d63c6341ce"
   },
   "source": [
    "# Object Of This Project \n",
    "The objective of this project is to build a model that can create relevant summaries from different President speeches.   "
   ]
  },
  {
   "cell_type": "markdown",
   "metadata": {
    "_uuid": "55579f5b396b1d6151fe0743a4156da1f4e2429b"
   },
   "source": [
    "## What Is Text Summarization?\n",
    "<img src=\"../images/TextSummarization.png\">\n",
    "Text summarization is the process of distilling the most important information from a source (or sources) to produce an abridged version for a particular user (or users) and task (or tasks)."
   ]
  },
  {
   "cell_type": "markdown",
   "metadata": {
    "_uuid": "a603f52d84bce68c606a8ba684f08908e935d812"
   },
   "source": [
    "## Types of Text Summarization Methods\n",
    "Text summarization methods can be classified into different types.\n",
    "<img src=\"../images/TextSummarization-flowchart.png\">\n",
    "\n",
    "**i. Based on input type:**\n",
    "\n",
    "1. Single Document, where the input length is short. Many of the early summarization systems dealt with single document summarization.\n",
    "\n",
    "2. Multi Document, where the input can be arbitrarily long.\n",
    "\n",
    "**ii. Based on the purpose:**\n",
    "\n",
    "1. Generic, where the model makes no assumptions about the domain or content of the text to be summarized and treats all inputs as homogeneous. The majority of the work that has been done revolves around generic summarization.\n",
    "\n",
    "2. Domain-specific, where the model uses domain-specific knowledge to form a more accurate summary. For example, summarizing research papers of a specific domain, biomedical documents, etc.\n",
    "\n",
    "3. Query-based, where the summary only contains information which answers natural language questions about the input text.\n",
    "\n",
    "**iii. Based on output type:**\n",
    "\n",
    "1. Extractive, where important sentences are selected from the input text to form a summary. Most summarization approaches today are extractive in nature.\n",
    "\n",
    "2. Abstractive, where the model forms its own phrases and sentences to offer a more coherent summary, like what a human would generate. This approach is definitely a more appealing, but much more difficult than extractive summarization."
   ]
  },
  {
   "cell_type": "markdown",
   "metadata": {
    "_cell_guid": "79c7e3d0-c299-4dcb-8224-4455121ee9b0",
    "_uuid": "d629ff2d2480ee46fbb7e2d37f6b5fab8052498a",
    "collapsed": true
   },
   "source": [
    "#  Import Packages \n"
   ]
  },
  {
   "cell_type": "code",
   "execution_count": 2,
   "metadata": {
    "_kg_hide-input": true,
    "_uuid": "2860a7dca6861d4a750915c770365e06a1408ce2"
   },
   "outputs": [
    {
     "data": {
      "text/html": [
       "<script>requirejs.config({paths: { 'plotly': ['https://cdn.plot.ly/plotly-latest.min']},});if(!window.Plotly) {{require(['plotly'],function(plotly) {window.Plotly=plotly;});}}</script>"
      ],
      "text/vnd.plotly.v1+html": [
       "<script>requirejs.config({paths: { 'plotly': ['https://cdn.plot.ly/plotly-latest.min']},});if(!window.Plotly) {{require(['plotly'],function(plotly) {window.Plotly=plotly;});}}</script>"
      ]
     },
     "metadata": {},
     "output_type": "display_data"
    }
   ],
   "source": [
    "import numpy as np # linear algebra\n",
    "import spacy\n",
    "nlp = spacy.load('en_core_web_sm')\n",
    "import pandas as pd # data processing, CSV file I/O (e.g. pd.read_csv)\n",
    "import seaborn as sns\n",
    "import matplotlib.pyplot as plt\n",
    "from wordcloud import WordCloud\n",
    "from IPython.display import display\n",
    "import base64\n",
    "import string\n",
    "import re\n",
    "from os import listdir\n",
    "from os.path import isfile, join\n",
    "from collections import Counter\n",
    "from time import time\n",
    "# from sklearn.feature_extraction.stop_words import ENGLISH_STOP_WORDS as stopwords\n",
    "from nltk.corpus import stopwords\n",
    "import nltk\n",
    "import heapq\n",
    "import plotly.offline as py\n",
    "py.init_notebook_mode(connected=True)\n",
    "import plotly.graph_objs as go\n",
    "import plotly.tools as tls\n",
    "import csv\n",
    "%matplotlib inline\n",
    "\n",
    "stopwords = stopwords.words('english')\n",
    "sns.set_context('notebook')"
   ]
  },
  {
   "cell_type": "markdown",
   "metadata": {
    "_uuid": "5e261260676c97cde87e171b9b049763740f63aa"
   },
   "source": [
    "# Import Dataset \n",
    "> In this section, I will load the desired dataset for this notebook. This dataset has huge number of reviews. It will be hard to work with full dataset. So I will randomly sample the dataset into smaller chunks for easy purpose."
   ]
  },
  {
   "cell_type": "code",
   "execution_count": 3,
   "metadata": {
    "_kg_hide-input": true,
    "_uuid": "a53b6190504ccf397dd408b5882cfed485046b3e"
   },
   "outputs": [
    {
     "data": {
      "text/html": [
       "<div>\n",
       "<style scoped>\n",
       "    .dataframe tbody tr th:only-of-type {\n",
       "        vertical-align: middle;\n",
       "    }\n",
       "\n",
       "    .dataframe tbody tr th {\n",
       "        vertical-align: top;\n",
       "    }\n",
       "\n",
       "    .dataframe thead th {\n",
       "        text-align: right;\n",
       "    }\n",
       "</style>\n",
       "<table border=\"1\" class=\"dataframe\">\n",
       "  <thead>\n",
       "    <tr style=\"text-align: right;\">\n",
       "      <th></th>\n",
       "      <th>title</th>\n",
       "      <th>content</th>\n",
       "    </tr>\n",
       "  </thead>\n",
       "  <tbody>\n",
       "    <tr>\n",
       "      <th>0</th>\n",
       "      <td>We are a strong nation, and we will maintain s...</td>\n",
       "      <td>For myself and for our Nation, I want to thank...</td>\n",
       "    </tr>\n",
       "    <tr>\n",
       "      <th>1</th>\n",
       "      <td>From time to time we've been tempted to believ...</td>\n",
       "      <td>Senator Hatfield, Mr. Chief Justice, Mr. Presi...</td>\n",
       "    </tr>\n",
       "    <tr>\n",
       "      <th>2</th>\n",
       "      <td>In another sense, our New Beginning is a conti...</td>\n",
       "      <td>Senator Mathias, Chief Justice Burger, Vice Pr...</td>\n",
       "    </tr>\n",
       "    <tr>\n",
       "      <th>3</th>\n",
       "      <td>A new breeze is blowing, and the old bipartisa...</td>\n",
       "      <td>Mr. Chief Justice, Mr. President, Vice Preside...</td>\n",
       "    </tr>\n",
       "    <tr>\n",
       "      <th>4</th>\n",
       "      <td>The world economy, the world environment, the ...</td>\n",
       "      <td>My fellow citizens, today we celebrate the mys...</td>\n",
       "    </tr>\n",
       "    <tr>\n",
       "      <th>5</th>\n",
       "      <td>With a new vision of Government, a new sense o...</td>\n",
       "      <td>My fellow citizens, at this last Presidential ...</td>\n",
       "    </tr>\n",
       "    <tr>\n",
       "      <th>6</th>\n",
       "      <td>To all nations, we will speak for the values t...</td>\n",
       "      <td>Thank you, all. Chief Justice Rehnquist, Presi...</td>\n",
       "    </tr>\n",
       "    <tr>\n",
       "      <th>7</th>\n",
       "      <td>From the viewpoint of centuries, the questions...</td>\n",
       "      <td>Vice President Cheney, Mr. Chief Justice, Pres...</td>\n",
       "    </tr>\n",
       "    <tr>\n",
       "      <th>8</th>\n",
       "      <td>So to all the other peoples and governments wh...</td>\n",
       "      <td>My fellow citizens, I stand here today humbled...</td>\n",
       "    </tr>\n",
       "    <tr>\n",
       "      <th>9</th>\n",
       "      <td>For the American people can no more meet the d...</td>\n",
       "      <td>Thank you. Thank you so much.\\nVice President ...</td>\n",
       "    </tr>\n",
       "    <tr>\n",
       "      <th>10</th>\n",
       "      <td>We will get our people off of welfare and back...</td>\n",
       "      <td>Chief Justice Roberts, President Carter, Presi...</td>\n",
       "    </tr>\n",
       "  </tbody>\n",
       "</table>\n",
       "</div>"
      ],
      "text/plain": [
       "                                                title  \\\n",
       "0   We are a strong nation, and we will maintain s...   \n",
       "1   From time to time we've been tempted to believ...   \n",
       "2   In another sense, our New Beginning is a conti...   \n",
       "3   A new breeze is blowing, and the old bipartisa...   \n",
       "4   The world economy, the world environment, the ...   \n",
       "5   With a new vision of Government, a new sense o...   \n",
       "6   To all nations, we will speak for the values t...   \n",
       "7   From the viewpoint of centuries, the questions...   \n",
       "8   So to all the other peoples and governments wh...   \n",
       "9   For the American people can no more meet the d...   \n",
       "10  We will get our people off of welfare and back...   \n",
       "\n",
       "                                              content  \n",
       "0   For myself and for our Nation, I want to thank...  \n",
       "1   Senator Hatfield, Mr. Chief Justice, Mr. Presi...  \n",
       "2   Senator Mathias, Chief Justice Burger, Vice Pr...  \n",
       "3   Mr. Chief Justice, Mr. President, Vice Preside...  \n",
       "4   My fellow citizens, today we celebrate the mys...  \n",
       "5   My fellow citizens, at this last Presidential ...  \n",
       "6   Thank you, all. Chief Justice Rehnquist, Presi...  \n",
       "7   Vice President Cheney, Mr. Chief Justice, Pres...  \n",
       "8   My fellow citizens, I stand here today humbled...  \n",
       "9   Thank you. Thank you so much.\\nVice President ...  \n",
       "10  Chief Justice Roberts, President Carter, Presi...  "
      ]
     },
     "execution_count": 3,
     "metadata": {},
     "output_type": "execute_result"
    }
   ],
   "source": [
    "\"\"\"\n",
    "These files have to move under src directory\n",
    "\"\"\"\n",
    "speeches = pd.read_csv(\"../data/Speeches.csv\", \n",
    "                      nrows=5000,usecols =['title','content'],\n",
    "                      na_values=['NA'] , encoding='iso-8859-1' )\n",
    "speeches = speeches.dropna()\n",
    "speeches_count = len(speeches.index)\n",
    "speeches.head(15)"
   ]
  },
  {
   "cell_type": "markdown",
   "metadata": {
    "_uuid": "489093d68a8c094167a77cdb7479c184b3e20e87"
   },
   "source": [
    "# Text preprocessing\n",
    "> In this step, I will be using Spacy for preprocessing text, in others words I will clearing not useful features from reviews title like punctuation, stopwords. For this task, there are two useful libraries available in Python. 1. NLTK 2. Spacy. In this notebook, I will be working with Spacy because it is very fast and has many useful features compared to NLTK. So without further do let's get started!"
   ]
  },
  {
   "cell_type": "code",
   "execution_count": 4,
   "metadata": {
    "_kg_hide-input": true,
    "_kg_hide-output": false,
    "_uuid": "25fd7f9ae5fa5ca3efe698e99ba8e1631f7121a6"
   },
   "outputs": [],
   "source": [
    "#!python -m spacy download en_core_web_lg\n",
    "nlp = spacy.load('en_core_web_lg')\n",
    "def normalize_text(text):\n",
    "    tm1 = re.sub('<pre>.*?</pre>', '', text, flags=re.DOTALL)\n",
    "    tm2 = re.sub('<code>.*?</code>', '', tm1, flags=re.DOTALL)\n",
    "    tm3 = re.sub('<[^>]+>©', '', tm1, flags=re.DOTALL)\n",
    "    return tm3.replace(\"\\n\", \"\")"
   ]
  },
  {
   "cell_type": "code",
   "execution_count": 5,
   "metadata": {
    "_kg_hide-input": true,
    "_uuid": "a69744aafbd96fad87b1433c0cd3d40fbd4f04d2"
   },
   "outputs": [],
   "source": [
    "# in this step we are going to remove code syntax from text \n",
    "speeches['content_Cleaned_1'] = speeches['content'].apply(normalize_text)"
   ]
  },
  {
   "cell_type": "code",
   "execution_count": 6,
   "metadata": {
    "_kg_hide-input": true,
    "_uuid": "d38a9fb0751391660bc33de4431ef2f2c521606b"
   },
   "outputs": [
    {
     "name": "stdout",
     "output_type": "stream",
     "text": [
      "Before normalizing text-----\n",
      "\n",
      "Senator Mathias, Chief Justice Burger, Vice President Bush, Speaker O'Neill, Senator Dole, reverend clergy, and members of my family and friends and my fellow citizens:\n",
      "This day has been made brighter with the presence here of one who, for a time, has been absent. Senator John Stennis, God bless you and welcome back.\n",
      "There is, however, one who is not with us today. Representative Gillis Long of Louisiana left us last night. And I wonder if we could all join in a moment of silent prayer.\n",
      "[The President resumed speaking after a moment of silence. ]\n",
      "Amen.\n",
      "There are no words adequate to express my thanks for the great honor that you've bestowed on me. I'll do my utmost to be deserving of your trust.\n",
      "This is, as Senator Mathias told us, the 50th time that we, the people, have celebrated this historic occasion. When the first President, George Washington, placed his hand upon the Bible, he stood less than a single day's journey by horseback from raw, untamed wilderness. There were 4 million Americans in a union of 13 States. Today, we are 60 times as many in a union of 50 States. We've lighted the world with our inventions, gone to the aid of mankind wherever in the world there was a cry for help, journeyed to the Moon and safely returned. So much has changed, and yet we stand together as we did two centuries ago.\n",
      "When I took this oath 4 years ago, I did so in a time of economic stress. Voices were raised saying that we had to look to our past for the greatness and glory. But we, the present-day Americans, are not given to looking backward. In this blessed land, there is always a better tomorrow.\n",
      "Four years ago, I spoke to you of a New Beginning, and we have accomplished that. But in another sense, our New Beginning is a continuation of that beginning created two centuries ago when, for the first time in history, government, the people said, was not our master, it is our servant; its only power that which we the people allow it to have.\n",
      "That system has never failed us, but for a time we failed the system. We asked things of government that government was not equipped to give. We yielded authority to the National Government that properly belonged to States or to local governments or to the people themselves. We allowed taxes and inflation to rob us of our earnings and savings and watched the great industrial machine that had made us the most productive people on Earth slow down and the number of unemployed increase.\n",
      "By 1980 we knew it was time to renew our faith, to strive with all our strength toward the ultimate in individual freedom, consistent with an orderly society.\n",
      "We believed then and now: There are no limits to growth and human progress when men and women are free to follow their dreams. And we were right to believe that. Tax rates have been reduced, inflation cut dramatically, and more people are employed than ever before in our history.\n",
      "We are creating a nation once again vibrant, robust, and alive. But there are many mountains yet to climb. We will not rest until every American enjoys the fullness of freedom, dignity, and opportunity as our birthright. It is our birthright as citizens of this great Republic.\n",
      "And if we meet this challenge, these will be years when Americans have restored their confidence and tradition of progress; when our values of faith, family, work, and neighborhood were restated for a modern age; when our economy was finally freed from government's grip; when we made sincere efforts at meaningful arms reductions and by rebuilding our defenses, our economy, and developing new technologies, helped preserve peace in a troubled world; when America courageously supported the struggle for individual liberty, self-government, and free enterprise throughout the world and turned the tide of history away from totalitarian darkness and into the warm sunlight of human freedom.\n",
      "My fellow citizens, our nation is poised for greatness. We must do what we know is right, and do it with all our might. Let history say of us: \"These were golden years-when the American Revolution was reborn, when freedom gained new life, and America reached for her best.\n",
      "Our two-party system has solved us-served us, I should say, well over the years, but never better than in those times of great challenge when we came together not as Democrats or Republicans, but as Americans united in a common cause.\n",
      "Two of our Founding Fathers, a Boston lawyer named Adams and a Virginia planter named Jefferson, members of that remarkable group who met in Independence Hall and dared to think they could start the world over again, left us an important lesson. They had become, in the years then in government, bitter political rivals in the Presidential election of 1800. Then, years later, when both were retired and age had softened their anger, they began to speak to each other again through letters. A bond was reestablished between those two who had helped create this government of ours.\n",
      "In 1826, the 50th anniversary of the Declaration of Independence, they both died. They died on the same day, within a few hours of each other, and that day was the Fourth of July.\n",
      "In one of those letters exchanged in the sunset of their lives, Jefferson wrote: \"It carries me back to the times when, beset with difficulties and dangers, we were fellow laborers in the same cause, struggling for what is most valuable to man, his right of self-government. Laboring always at the same oar, with some wave ever ahead threatening to overwhelm us, and yet passing harmless... we rode through the storm with heart and hand.\"\n",
      "Well, with heart and hand let us stand as one todayÑone people under God, determined that our future shall be worthy of our past. As we do, we must not repeat the well-intentioned errors of our past. We must never again abuse the trust of working men and women by sending their earnings on a futile chase after the spiraling demands of a bloated Federal Establishment. You elected us in 1980 to end this prescription for disaster, and I don't believe you reelected us in 1984 to reverse course.\n",
      "At the heart of our efforts is one idea vindicated by 25 straight months of economic growth: Freedom and incentives unleash the drive and entrepreneurial genius that are the core of human progress. We have begun to increase the rewards for work, savings, and investment; reduce the increase in the cost and size of government and its interference in people's lives.\n",
      "We must simplify our tax system, make it more fair and bring the rates down for all who work and earn. We must think anew and move with a new boldness, so every American who seeks work can find work, so the least among us shall have an equal chance to achieve the greatest thingsÑto be heroes who heal our sick, feed the hungry, protect peace among nations, and leave this world a better place.\n",
      "The time has come for a new American emancipationÑa great national drive to tear down economic barriers and liberate the spirit of enterprise in the most distressed areas of our country. My friends, together we can do this, and do it we must, so help me God.\n",
      "From new freedom will spring new opportunities for growth, a more productive, fulfilled, and united people, and a stronger AmericaÑan America that will lead the technological revolution and also open its mind and heart and soul to the treasures of literature, music, and poetry, and the values of faith, courage, and love.\n",
      "A dynamic economy, with more citizens working and paying taxes, will be our strongest tool to bring down budget deficits. But an almost unbroken 50 years of deficit spending has finally brought us to a time of reckoning. We've come to a turning point, a moment for hard decisions. I have asked the Cabinet and my staff a question and now I put the same question to all of you. If not us, who? And if not now, when? It must be done by all of us going forward with a program aimed at reaching a balanced budget. We can then begin reducing the national debt.\n",
      "I will shortly submit a budget to the Congress aimed at freezing government program spending for the next year. Beyond this, we must take further steps to permanently control government's power to tax and spend. We must act now to protect future generations from government's desire to spend its citizens' money and tax them into servitude when the bills come due. Let us make it unconstitutional for the Federal Government to spend more than the Federal Government takes in.\n",
      "We have already started returning to the people and to State and local governments responsibilities better handled by them. Now, there is a place for the Federal Government in matters of social compassion. But our fundamental goals must be to reduce dependency and upgrade the dignity of those who are infirm or disadvantaged. And here, a growing economy and support from family and community offer our best chance for a society where compassion is a way of life, where the old and infirm are cared for, the young and, yes, the unborn protected, and the unfortunate looked after and made self-sufficient.\n",
      "Now, there is another area where the Federal Government can play a part. As an older American, I remember a time when people of different race, creed, or ethnic origin in our land found hatred and prejudice installed in social custom and, yes, in law. There's no story more heartening in our history than the progress that we've made toward the brotherhood of man that God intended for us. Let us resolve there will be no turning back or hesitation on the road to an America rich in dignity and abundant with opportunity for all our citizens.\n",
      "Let us resolve that we, the people, will build an American opportunity society in which all of usÑwhite and black, rich and poor, young and oldÑwill go forward together, arm in arm. Again, let us remember that though our heritage is one of blood lines from every corner of the Earth, we are all Americans, pledged to carry on this last, best hope of man on Earth.\n",
      "I've spoken of our domestic goals and the limitations we should put on our National Government. Now let me turn to a task that is the primary responsibility of National GovernmentÑthe safety and security of our people.\n",
      "Today, we utter no prayer more fervently than the ancient prayer for peace on Earth. Yet history has shown that peace does not come, nor will our freedom be preserved, by good will alone. There are those in the world who scorn our vision of human dignity and freedom. One nation, the Soviet Union, has conducted the greatest military buildup in the history of man, building arsenals of awesome offensive weapons.\n",
      "We've made progress in restoring our defense capability. But much remains to be done. There must be no wavering by us, nor any doubts by others, that America will meet her responsibilities to remain free, secure, and at peace.\n",
      "There is only one way safely and legitimately to reduce the cost of national security, and that is to reduce the need for it. And this we're trying to do in negotiations with the Soviet Union. We're not just discussing limits on a further increase of nuclear weapons; we seek, instead, to reduce their number. We seek the total elimination one day of nuclear weapons from the face of the Earth.\n",
      "Now, for decades, we and the Soviets have lived under the threat of mutual assured destructionÑif either resorted to the use of nuclear weapons, the other could retaliate and destroy the one who had started it. Is there either logic or morality in believing that if one side threatens to kill tens of millions of our people our only recourse is to threaten killing tens of millions of theirs?\n",
      "I have approved a research program to find, if we can, a security shield that will destroy nuclear missiles before they reach their target. It wouldn't kill people; it would destroy weapons. It wouldn't militarize space; it would help demilitarize the arsenals of Earth. It would render nuclear weapons obsolete. We will meet with the Soviets, hoping that we can agree on a way to rid the world of the threat of nuclear destruction.\n",
      "We strive for peace and security, heartened by the changes all around us. Since the turn of the century, the number of democracies in the world has grown fourfold. Human freedom is on the march, and nowhere more so than in our own hemisphere. Freedom is one of the deepest and noblest aspirations of the human spirit. People, worldwide, hunger for the right of self-determination, for those inalienable rights that make for human dignity and progress.\n",
      "America must remain freedom's staunchest friend, for freedom is our best ally and it is the world's only hope to conquer poverty and preserve peace. Every blow we inflict against poverty will be a blow against its dark allies of oppression and war. Every victory for human freedom will be a victory for world peace.\n",
      "So, we go forward today, a nation still mighty in its youth and powerful in its purpose. With our alliances strengthened, with our economy leading the world to a new age of economic expansion, we look to a future rich in possibilities. And all of this is because we worked and acted together, not as members of political parties but as Americans.\n",
      "My friends, we live in a world that's lit by lightning. So much is changing and will change, but so much endures and transcends time.\n",
      "History is a ribbon, always unfurling. History is a journey. And as we continue our journey, we think of those who traveled before us. We stand again at the steps of this symbol of our democracyÑwell, we would have been standing at the steps if it hadn't gotten so cold. [Laughter] Now we're standing inside this symbol of our democracy, and we see and hear again the echoes of our past: a general falls to his knees in the hard snow of Valley Forge; a lonely President paces the darkened halls and ponders his struggle to preserve the Union; the men of the Alamo call out encouragement to each other; a settler pushes west and sings a song, and the song echoes out forever and fills the unknowing air.\n",
      "It is the American sound. It is hopeful, big-hearted, idealistic, daring, decent, and fair. That's our heritage, that's our song. We sing it still. For all our problems, our differences, we are together as of old. We raise our voices to the God who is the Author of this most tender music. And may He continue to hold us close as we fill the world with our soundÑin unity, affection, and loveÑone people under God, dedicated to the dream of freedom that He has placed in the human heart, called upon now to pass that dream on to a waiting and hopeful world.\n"
     ]
    },
    {
     "name": "stdout",
     "output_type": "stream",
     "text": [
      "God bless you, and God bless America.\n",
      "\n",
      "After normalizing text-----\n",
      "\n"
     ]
    },
    {
     "name": "stdout",
     "output_type": "stream",
     "text": [
      "Senator Mathias, Chief Justice Burger, Vice President Bush, Speaker O'Neill, Senator Dole, reverend clergy, and members of my family and friends and my fellow citizens:This day has been made brighter with the presence here of one who, for a time, has been absent. Senator John Stennis, God bless you and welcome back.There is, however, one who is not with us today. Representative Gillis Long of Louisiana left us last night. And I wonder if we could all join in a moment of silent prayer.[The President resumed speaking after a moment of silence. ]Amen.There are no words adequate to express my thanks for the great honor that you've bestowed on me. I'll do my utmost to be deserving of your trust.This is, as Senator Mathias told us, the 50th time that we, the people, have celebrated this historic occasion. When the first President, George Washington, placed his hand upon the Bible, he stood less than a single day's journey by horseback from raw, untamed wilderness. There were 4 million Americans in a union of 13 States. Today, we are 60 times as many in a union of 50 States. We've lighted the world with our inventions, gone to the aid of mankind wherever in the world there was a cry for help, journeyed to the Moon and safely returned. So much has changed, and yet we stand together as we did two centuries ago.When I took this oath 4 years ago, I did so in a time of economic stress. Voices were raised saying that we had to look to our past for the greatness and glory. But we, the present-day Americans, are not given to looking backward. In this blessed land, there is always a better tomorrow.Four years ago, I spoke to you of a New Beginning, and we have accomplished that. But in another sense, our New Beginning is a continuation of that beginning created two centuries ago when, for the first time in history, government, the people said, was not our master, it is our servant; its only power that which we the people allow it to have.That system has never failed us, but for a time we failed the system. We asked things of government that government was not equipped to give. We yielded authority to the National Government that properly belonged to States or to local governments or to the people themselves. We allowed taxes and inflation to rob us of our earnings and savings and watched the great industrial machine that had made us the most productive people on Earth slow down and the number of unemployed increase.By 1980 we knew it was time to renew our faith, to strive with all our strength toward the ultimate in individual freedom, consistent with an orderly society.We believed then and now: There are no limits to growth and human progress when men and women are free to follow their dreams. And we were right to believe that. Tax rates have been reduced, inflation cut dramatically, and more people are employed than ever before in our history.We are creating a nation once again vibrant, robust, and alive. But there are many mountains yet to climb. We will not rest until every American enjoys the fullness of freedom, dignity, and opportunity as our birthright. It is our birthright as citizens of this great Republic.And if we meet this challenge, these will be years when Americans have restored their confidence and tradition of progress; when our values of faith, family, work, and neighborhood were restated for a modern age; when our economy was finally freed from government's grip; when we made sincere efforts at meaningful arms reductions and by rebuilding our defenses, our economy, and developing new technologies, helped preserve peace in a troubled world; when America courageously supported the struggle for individual liberty, self-government, and free enterprise throughout the world and turned the tide of history away from totalitarian darkness and into the warm sunlight of human freedom.My fellow citizens, our nation is poised for greatness. We must do what we know is right, and do it with all our might. Let history say of us: \"These were golden years-when the American Revolution was reborn, when freedom gained new life, and America reached for her best.Our two-party system has solved us-served us, I should say, well over the years, but never better than in those times of great challenge when we came together not as Democrats or Republicans, but as Americans united in a common cause.Two of our Founding Fathers, a Boston lawyer named Adams and a Virginia planter named Jefferson, members of that remarkable group who met in Independence Hall and dared to think they could start the world over again, left us an important lesson. They had become, in the years then in government, bitter political rivals in the Presidential election of 1800. Then, years later, when both were retired and age had softened their anger, they began to speak to each other again through letters. A bond was reestablished between those two who had helped create this government of ours.In 1826, the 50th anniversary of the Declaration of Independence, they both died. They died on the same day, within a few hours of each other, and that day was the Fourth of July.In one of those letters exchanged in the sunset of their lives, Jefferson wrote: \"It carries me back to the times when, beset with difficulties and dangers, we were fellow laborers in the same cause, struggling for what is most valuable to man, his right of self-government. Laboring always at the same oar, with some wave ever ahead threatening to overwhelm us, and yet passing harmless... we rode through the storm with heart and hand.\"Well, with heart and hand let us stand as one todayÑone people under God, determined that our future shall be worthy of our past. As we do, we must not repeat the well-intentioned errors of our past. We must never again abuse the trust of working men and women by sending their earnings on a futile chase after the spiraling demands of a bloated Federal Establishment. You elected us in 1980 to end this prescription for disaster, and I don't believe you reelected us in 1984 to reverse course.At the heart of our efforts is one idea vindicated by 25 straight months of economic growth: Freedom and incentives unleash the drive and entrepreneurial genius that are the core of human progress. We have begun to increase the rewards for work, savings, and investment; reduce the increase in the cost and size of government and its interference in people's lives.We must simplify our tax system, make it more fair and bring the rates down for all who work and earn. We must think anew and move with a new boldness, so every American who seeks work can find work, so the least among us shall have an equal chance to achieve the greatest thingsÑto be heroes who heal our sick, feed the hungry, protect peace among nations, and leave this world a better place.The time has come for a new American emancipationÑa great national drive to tear down economic barriers and liberate the spirit of enterprise in the most distressed areas of our country. My friends, together we can do this, and do it we must, so help me God.From new freedom will spring new opportunities for growth, a more productive, fulfilled, and united people, and a stronger AmericaÑan America that will lead the technological revolution and also open its mind and heart and soul to the treasures of literature, music, and poetry, and the values of faith, courage, and love.A dynamic economy, with more citizens working and paying taxes, will be our strongest tool to bring down budget deficits. But an almost unbroken 50 years of deficit spending has finally brought us to a time of reckoning. We've come to a turning point, a moment for hard decisions. I have asked the Cabinet and my staff a question and now I put the same question to all of you. If not us, who? And if not now, when? It must be done by all of us going forward with a program aimed at reaching a balanced budget. We can then begin reducing the national debt.I will shortly submit a budget to the Congress aimed at freezing government program spending for the next year. Beyond this, we must take further steps to permanently control government's power to tax and spend. We must act now to protect future generations from government's desire to spend its citizens' money and tax them into servitude when the bills come due. Let us make it unconstitutional for the Federal Government to spend more than the Federal Government takes in.We have already started returning to the people and to State and local governments responsibilities better handled by them. Now, there is a place for the Federal Government in matters of social compassion. But our fundamental goals must be to reduce dependency and upgrade the dignity of those who are infirm or disadvantaged. And here, a growing economy and support from family and community offer our best chance for a society where compassion is a way of life, where the old and infirm are cared for, the young and, yes, the unborn protected, and the unfortunate looked after and made self-sufficient.Now, there is another area where the Federal Government can play a part. As an older American, I remember a time when people of different race, creed, or ethnic origin in our land found hatred and prejudice installed in social custom and, yes, in law. There's no story more heartening in our history than the progress that we've made toward the brotherhood of man that God intended for us. Let us resolve there will be no turning back or hesitation on the road to an America rich in dignity and abundant with opportunity for all our citizens.Let us resolve that we, the people, will build an American opportunity society in which all of usÑwhite and black, rich and poor, young and oldÑwill go forward together, arm in arm. Again, let us remember that though our heritage is one of blood lines from every corner of the Earth, we are all Americans, pledged to carry on this last, best hope of man on Earth.I've spoken of our domestic goals and the limitations we should put on our National Government. Now let me turn to a task that is the primary responsibility of National GovernmentÑthe safety and security of our people.Today, we utter no prayer more fervently than the ancient prayer for peace on Earth. Yet history has shown that peace does not come, nor will our freedom be preserved, by good will alone. There are those in the world who scorn our vision of human dignity and freedom. One nation, the Soviet Union, has conducted the greatest military buildup in the history of man, building arsenals of awesome offensive weapons.We've made progress in restoring our defense capability. But much remains to be done. There must be no wavering by us, nor any doubts by others, that America will meet her responsibilities to remain free, secure, and at peace.There is only one way safely and legitimately to reduce the cost of national security, and that is to reduce the need for it. And this we're trying to do in negotiations with the Soviet Union. We're not just discussing limits on a further increase of nuclear weapons; we seek, instead, to reduce their number. We seek the total elimination one day of nuclear weapons from the face of the Earth.Now, for decades, we and the Soviets have lived under the threat of mutual assured destructionÑif either resorted to the use of nuclear weapons, the other could retaliate and destroy the one who had started it. Is there either logic or morality in believing that if one side threatens to kill tens of millions of our people our only recourse is to threaten killing tens of millions of theirs?I have approved a research program to find, if we can, a security shield that will destroy nuclear missiles before they reach their target. It wouldn't kill people; it would destroy weapons. It wouldn't militarize space; it would help demilitarize the arsenals of Earth. It would render nuclear weapons obsolete. We will meet with the Soviets, hoping that we can agree on a way to rid the world of the threat of nuclear destruction.We strive for peace and security, heartened by the changes all around us. Since the turn of the century, the number of democracies in the world has grown fourfold. Human freedom is on the march, and nowhere more so than in our own hemisphere. Freedom is one of the deepest and noblest aspirations of the human spirit. People, worldwide, hunger for the right of self-determination, for those inalienable rights that make for human dignity and progress.America must remain freedom's staunchest friend, for freedom is our best ally and it is the world's only hope to conquer poverty and preserve peace. Every blow we inflict against poverty will be a blow against its dark allies of oppression and war. Every victory for human freedom will be a victory for world peace.So, we go forward today, a nation still mighty in its youth and powerful in its purpose. With our alliances strengthened, with our economy leading the world to a new age of economic expansion, we look to a future rich in possibilities. And all of this is because we worked and acted together, not as members of political parties but as Americans.My friends, we live in a world that's lit by lightning. So much is changing and will change, but so much endures and transcends time.History is a ribbon, always unfurling. History is a journey. And as we continue our journey, we think of those who traveled before us. We stand again at the steps of this symbol of our democracyÑwell, we would have been standing at the steps if it hadn't gotten so cold. [Laughter] Now we're standing inside this symbol of our democracy, and we see and hear again the echoes of our past: a general falls to his knees in the hard snow of Valley Forge; a lonely President paces the darkened halls and ponders his struggle to preserve the Union; the men of the Alamo call out encouragement to each other; a settler pushes west and sings a song, and the song echoes out forever and fills the unknowing air.It is the American sound. It is hopeful, big-hearted, idealistic, daring, decent, and fair. That's our heritage, that's our song. We sing it still. For all our problems, our differences, we are together as of old. We raise our voices to the God who is the Author of this most tender music. And may He continue to hold us close as we fill the world with our soundÑin unity, affection, and loveÑone people under God, dedicated to the dream of freedom that He has placed in the human heart, called upon now to pass that dream on to a waiting and hopeful world.God bless you, and God bless America.\n"
     ]
    }
   ],
   "source": [
    "print('Before normalizing text-----\\n')\n",
    "print(speeches['content'][2])\n",
    "print('\\nAfter normalizing text-----\\n')\n",
    "print(speeches['content_Cleaned_1'][2])"
   ]
  },
  {
   "cell_type": "markdown",
   "metadata": {
    "_uuid": "0875039d74a5dc0636bbfb2eb93efcf7278c1f47"
   },
   "source": [
    "We can see a huge difference after normalizing our text. Now we can see our text is more manageable. This will help us to explore the reviews and later making summarizer.\n",
    "\n",
    "We are also seeing that there are some punctuation and stopwords. We also don't need them. In the first place, I don't remove them because we are gonna need this in future when we will make summarizer. So let's make another column that will store our normalized text without punctuation and stopwords."
   ]
  },
  {
   "cell_type": "markdown",
   "metadata": {
    "_uuid": "1d3e99e4511e5e57a41935fe1432d93a2745cfe1"
   },
   "source": [
    "## Clean text before feeding it to spaCy"
   ]
  },
  {
   "cell_type": "code",
   "execution_count": 7,
   "metadata": {
    "_kg_hide-input": true,
    "_uuid": "64f118a88d5c7fb5fcf276f017fe6318b8b7c45e"
   },
   "outputs": [],
   "source": [
    "punctuations = '!\"#$%&\\'()*+,-/:;<=>?@[\\\\]^_`{|}~©'\n",
    "# Define function to cleanup text by removing personal pronouns, stopwords, and puncuation\n",
    "def cleanup_text(docs, logging=False):\n",
    "    texts = []\n",
    "    doc = nlp(docs, disable=['parser', 'ner'])\n",
    "    tokens = [tok.lemma_.lower().strip() for tok in doc if tok.lemma_ != '-PRON-']\n",
    "    tokens = [tok for tok in tokens if tok not in stopwords and tok not in punctuations]\n",
    "    tokens = ' '.join(tokens)\n",
    "    texts.append(tokens)\n",
    "    return pd.Series(texts)\n",
    "speeches['Content_Cleaned'] = speeches['content_Cleaned_1'].apply(lambda x: cleanup_text(x, False))"
   ]
  },
  {
   "cell_type": "code",
   "execution_count": 8,
   "metadata": {
    "_uuid": "e9d814a5a03b4063b9e67efc2c6cf330ec8fc443"
   },
   "outputs": [
    {
     "name": "stdout",
     "output_type": "stream",
     "text": [
      "Speeches content with punctuatin and stopwords---\n",
      "\n",
      "For myself and for our Nation, I want to thank my predecessor for all he has done to heal our land.In this outward and physical ceremony, we attest once again to the inner and spiritual strength of our Nation. As my high school teacher, Miss Julia Coleman, used to say, \"We must adjust to changing times and still hold to unchanging principles.\"Here before me is the Bible used in the inauguration of our first President, in 1789, and I have just taken the oath of office on the Bible my mother gave me just a few years ago, opened to a timeless admonition from the ancient prophet Micah: \"He hath showed thee, O man, what is good; and what doth the Lord require of thee, but to do justly, and to love mercy, and to walk humbly with thy God.\"This inauguration ceremony marks a new beginning, a new dedication within our Government, and a new spirit among us all. A President may sense and proclaim that new spirit, but only a people can provide it.Two centuries ago, our Nation's birth was a milestone in the long quest for freedom. But the bold and brilliant dream which excited the founders of this Nation still awaits its consummation. I have no new dream to set forth today, but rather urge a fresh faith in the old dream.Ours was the first society openly to define itself in terms of both spirituality and human liberty. It is that unique self-definition which has given us an exceptional appeal, but it also imposes on us a special obligation to take on those moral duties which, when assumed, seem invariably to be in our own best interests.You have given me a great responsibility--to stay close to you, to be worthy of you, and to exemplify what you are. Let us create together a new national spirit of unity and trust. Your strength can compensate for my weakness, and your wisdom can help to minimize my mistakes.Let us learn together and laugh together and work together and pray together, confident that in the end we will triumph together in the right.The American dream endures. We must once again have full faith in our country--and in one another. I believe America can be better. We can be even stronger than before.Let our recent mistakes bring a resurgent commitment to the basic principles of our Nation, for we know that if we despise our own government, we have no future. We recall in special times when we have stood briefly, but magnificently, united. In those times no prize was beyond our grasp.But we cannot dwell upon remembered glory. We cannot afford to drift. We reject the prospect of failure or mediocrity or an inferior quality of life for any person. Our Government must at the same time be both competent and compassionate.We have already found a high degree of personal liberty, and we are now struggling to enhance equality of opportunity. Our commitment to human rights must be absolute, our laws fair, our national beauty preserved; the powerful must not persecute the weak, and human dignity must be enhanced.We have learned that more is not necessarily better, that even our great Nation has its recognized limits, and that we can neither answer all questions nor solve all problems. We cannot afford to do everything, nor can we afford to lack boldness as we meet the future. So, together, in a spirit of individual sacrifice for the common good, we must simply do our best.Our Nation can be strong abroad only if it is strong at home. And we know that the best way to enhance freedom in other lands is to demonstrate here that our democratic system is worthy of emulation.To be true to ourselves, we must be true to others. We will not behave in foreign places so as to violate our rules and standards here at home, for we know that the trust which our Nation earns is essential to our strength.The world itself is now dominated by a new spirit. Peoples more numerous and more politically aware are craving, and now demanding, their place in the sun--not just for the benefit of their own physical condition, but for basic human rights.The passion for freedom is on the rise. Tapping this new spirit, there can be no nobler nor more ambitious task for America to undertake on this day of a new beginning than to help shape a just and peaceful world that is truly humane.We are a strong nation, and we will maintain strength so sufficient that it need not be proven in combat--a quiet strength based not merely on the size of an arsenal but on the nobility of ideas.We will be ever vigilant and never vulnerable, and we will fight our wars against poverty, ignorance, and injustice, for those are the enemies against which our forces can be honorably marshaled.We are a proudly idealistic nation, but let no one confuse our idealism with weakness.Because we are free, we can never be indifferent to the fate of freedom elsewhere. Our moral sense dictates a clear-cut preference for those societies which share with us an abiding respect for individual human rights. We do not seek to intimidate, but it is clear that a world which others can dominate with impunity would be inhospitable to decency and a threat to the well-being of all people.The world is still engaged in a massive armaments race designed to ensure continuing equivalent strength among potential adversaries. We pledge perseverance and wisdom in our efforts to limit the world's armaments to those necessary for each nation's own domestic safety. And we will move this year a step toward our ultimate goal--the elimination of all nuclear weapons from this Earth. We urge all other people to join us, for success can mean life instead of death.Within us, the people of the United States, there is evident a serious and purposeful rekindling of confidence. And I join in the hope that when my time as your President has ended, people might say this about our Nation:that we had remembered the words of Micah and renewed oursearch for humility, mercy, and justice;that we had torn down the barriers that separated those of different race and region and religion, and where there had been mistrust, built unity, with a respect for diversity;that we had found productive work for those able to perform it;that we had strengthened the American family, which is the basis of our society;that we had ensured respect for the law and equal treatment under the law, for the weak and the powerful, for the rich and the poor; andthat we had enabled our people to be proud of their own Government once again.I would hope that the nations of the world might say that we had built a lasting peace, based not on weapons of war but on international policies which reflect our own most precious values.These are not just my goals---and they will not be my accomplishments-but the affirmation of our Nation's continuing moral strength and our belief in an undiminished, ever-expanding American dream.Thank you very much.\n",
      "\n",
      "Speeches content after removing punctuation and stopwrods---\n",
      "\n"
     ]
    },
    {
     "name": "stdout",
     "output_type": "stream",
     "text": [
      "nation want thank predecessor heal land . outward physical ceremony attest inner spiritual strength nation . high school teacher miss julia coleman use say must adjust change time still hold unchanging principles.\"here bible use inauguration first president 1789 take oath office bible mother give year ago open timeless admonition ancient prophet micah hath show thee man good doth lord require thee justly love mercy walk humbly thy god.\"this inauguration ceremony mark new beginning new dedication within government new spirit among . president may sense proclaim new spirit people provide . two century ago nation 's birth milestone long quest freedom . bold brilliant dream excite founder nation still await consummation . new dream set forth today rather urge fresh faith old dream . first society openly define term spirituality human liberty . unique self definition give exceptional appeal also impose special obligation take moral duty assume seem invariably good interest . give great responsibility -- stay close worthy exemplify . let create together new national spirit unity trust . strength compensate weakness wisdom help minimize mistake . let learn together laugh together work together pray together confident end triumph together right . american dream endure . must full faith country -- one another . believe america good . even strong . let recent mistake bring resurgent commitment basic principle nation know despise government future . recall special time stand briefly magnificently united . time prize beyond grasp . dwell upon remember glory . afford drift . reject prospect failure mediocrity inferior quality life person . government must time competent compassionate . already find high degree personal liberty struggle enhance equality opportunity . commitment human right must absolute law fair national beauty preserve powerful must persecute weak human dignity must enhance . learn necessarily good even great nation recognize limit neither answer question solve problem . afford everything afford lack boldness meet future . together spirit individual sacrifice common good must simply good . nation strong abroad strong home . know good way enhance freedom land demonstrate democratic system worthy emulation . true must true . behave foreign place violate rule standard home know trust nation earn essential strength . world dominate new spirit . people numerous politically aware crave demand place sun -- benefit physical condition basic human right . passion freedom rise . tap new spirit noble ambitious task america undertake day new beginning help shape peaceful world truly humane . strong nation maintain strength sufficient need prove combat -- quiet strength base merely size arsenal nobility idea . ever vigilant never vulnerable fight war poverty ignorance injustice enemy force honorably marshal . proudly idealistic nation let one confuse idealism weakness . free never indifferent fate freedom elsewhere . moral sense dictate clear cut preference society share abide respect individual human right . seek intimidate clear world dominate impunity would inhospitable decency threat well people . world still engage massive armament race design ensure continue equivalent strength among potential adversary . pledge perseverance wisdom effort limit world 's armament necessary nation 's domestic safety . move year step toward ultimate goal -- elimination nuclear weapon earth . urge people join success mean life instead death . within people united states evident serious purposeful rekindling confidence . join hope time president end people may say nation remember word micah renew oursearch humility mercy justice;that tear barrier separate different race region religion mistrust build unity respect diversity;that find productive work able perform it;that strengthen american family basis society;that ensure respect law equal treatment law weak powerful rich poor andthat enable people proud government . would hope nation world may say build last peace base weapon war international policy reflect precious value . goal --- accomplishment affirmation nation 's continue moral strength belief undiminished ever expand american dream . thank much .\n"
     ]
    }
   ],
   "source": [
    "print('Speeches content with punctuatin and stopwords---\\n')\n",
    "print(speeches['content_Cleaned_1'][0])\n",
    "print('\\nSpeeches content after removing punctuation and stopwrods---\\n')\n",
    "print(speeches['Content_Cleaned'][0])"
   ]
  },
  {
   "cell_type": "markdown",
   "metadata": {
    "_uuid": "05c4d720356799bcb929093c51fd9cb4af315317"
   },
   "source": [
    "Wow! See! Now our text looks much readable and less messy!"
   ]
  },
  {
   "cell_type": "markdown",
   "metadata": {
    "_uuid": "39abb8b4ce723d291e26f238ee6aad6a1e93ff27"
   },
   "source": [
    "# Content Summarizer\n",
    "> In this step, I will try to make a content summarizer. There is a huge amount of research going for text summarization. But I will try to do a simple technique for text summarization. The technique describes below."
   ]
  },
  {
   "cell_type": "markdown",
   "metadata": {
    "_uuid": "7f24b07ce1634f1a568f67bb6fd4a881c12fa113"
   },
   "source": [
    "###  Convert Paragraphs to Sentences\n",
    "> We first need to convert the whole paragraph into sentences. The most common way of converting paragraphs to sentences is to split the paragraph whenever a period is encountered.\n",
    "\n",
    "###  Text Preprocessing\n",
    "> After converting paragraph to sentences, we need to remove all the special characters, stop words and numbers from all the sentences.\n",
    "\n",
    "###  Tokenizing the Sentences\n",
    "> We need to tokenize all the sentences to get all the words that exist in the sentences\n",
    "\n",
    "###  Find Weighted Frequency of Occurrence\n",
    "> Next we need to find the weighted frequency of occurrences of all the words. We can find the weighted frequency of each word by dividing its frequency by the frequency of the most occurring word.\n",
    "\n",
    "###  Replace Words by Weighted Frequency in Original Sentences\n",
    "> The final step is to plug the weighted frequency in place of the corresponding words in original sentences and finding their sum. It is important to mention that weighted frequency for the words removed during preprocessing (stop words, punctuation, digits etc.) will be zero and therefore is not required to be added\n",
    "\n",
    "###  Sort Sentences in Descending Order of Sum\n",
    "> The final step is to sort the sentences in inverse order of their sum. The sentences with highest frequencies summarize the text."
   ]
  },
  {
   "cell_type": "code",
   "execution_count": 9,
   "metadata": {
    "_kg_hide-input": true,
    "_uuid": "231232c4be343eb6c6812ca26069bc437c422be8"
   },
   "outputs": [],
   "source": [
    "# this is function for text summarization\n",
    "def generate_summary(text_without_removing_dot, cleaned_text):\n",
    "    sample_text = text_without_removing_dot\n",
    "    doc = nlp(sample_text)\n",
    "    sentence_list=[]\n",
    "    for idx, sentence in enumerate(doc.sents): # we are using spacy for sentence tokenization\n",
    "        sentence_list.append(re.sub(r'[^\\w\\s]','',str(sentence)))\n",
    "\n",
    "    stopwords = nltk.corpus.stopwords.words('english')\n",
    "\n",
    "    word_frequencies = {}  \n",
    "    for word in nltk.word_tokenize(cleaned_text):  \n",
    "        if word not in stopwords:\n",
    "            if word not in word_frequencies.keys():\n",
    "                word_frequencies[word] = 1\n",
    "            else:\n",
    "                word_frequencies[word] += 1\n",
    "\n",
    "\n",
    "    maximum_frequncy = max(word_frequencies.values())\n",
    "\n",
    "    for word in word_frequencies.keys():  \n",
    "        word_frequencies[word] = (word_frequencies[word]/maximum_frequncy)\n",
    "\n",
    "\n",
    "    sentence_scores = {}  \n",
    "    for sent in sentence_list:  \n",
    "        for word in nltk.word_tokenize(sent.lower()):\n",
    "            if word in word_frequencies.keys():\n",
    "                if len(sent.split(' ')) < 30:\n",
    "                    if sent not in sentence_scores.keys():\n",
    "                        sentence_scores[sent] = word_frequencies[word]\n",
    "                    else:\n",
    "                        sentence_scores[sent] += word_frequencies[word]\n",
    "\n",
    "\n",
    "    summary_sentences = heapq.nlargest(7, sentence_scores, key=sentence_scores.get)\n",
    "\n",
    "    summary = ' '.join(summary_sentences)\n",
    "    \"\"\"\n",
    "    Add president name  before each text \n",
    "    \"\"\"\n",
    "    print(\"Original Text:\\n\")\n",
    "    print(text_without_removing_dot)\n",
    "    print('\\n\\nSummarized text:\\n')\n",
    "    print(summary)  "
   ]
  },
  {
   "cell_type": "markdown",
   "metadata": {
    "_uuid": "ac545db73e4e8f7b7528a9743d163e78345d1130"
   },
   "source": [
    "Now we have written the function let's try to summarize some content."
   ]
  },
  {
   "cell_type": "code",
   "execution_count": 10,
   "metadata": {
    "_kg_hide-input": true,
    "_uuid": "716d14346ed32a3530b28ff69e656b304344c054",
    "scrolled": true
   },
   "outputs": [
    {
     "name": "stdout",
     "output_type": "stream",
     "text": [
      "Original Text:\n",
      "\n"
     ]
    },
    {
     "name": "stdout",
     "output_type": "stream",
     "text": [
      "Chief Justice Roberts, President Carter, President Clinton, President Bush, President Obama, fellow Americans, and people of the world: Thank you.We, the citizens of America, are now joined in a great national effort to rebuild our country and restore its promise for all of our people. Together, we will determine the course of America and the world for many, many years to come. We will face challenges, we will confront hardships, but we will get the job done.Every 4 years, we gather on these steps to carry out the orderly and peaceful transfer of power, and we are grateful to President Obama and First Lady Michelle Obama for their gracious aid throughout this transition. They have been magnificent. Thank you.Today's ceremony, however, has very special meaning. Because today we are not merely transferring power from one administration to another or from one party to another, but we are transferring power from Washington, DC, and giving it back to you, the people.For too long, a small group in our Nation's Capital has reaped the rewards of Government while the people have borne the cost. Washington flourished, but the people did not share in its wealth. Politicians prospered, but the jobs left, and the factories closed. The establishment protected itself, but not the citizens of our country. Their victories have not been your victories; their triumphs have not been your triumphs; and while they celebrated in our Nation's Capital, there was little to celebrate for struggling families all across our land.That all changes, starting right here and right now, because this moment is your moment: It belongs to you. It belongs to everyone gathered here today and everyone watching all across America. This is your day. This is your celebration. And this, the United States of America, is your country.What truly matters is not which party controls our Government, but whether our Government is controlled by the people. January 20, 2017, will be remembered as the day the people became the rulers of this Nation again. The forgotten men and women of our country will be forgotten no longer. Everyone is listening to you now.You came by the tens of millions to become part of a historic movement the likes of which the world has never seen before. At the center of this movement is a crucial conviction: that a nation exists to serve its citizens. Americans want great schools for their children, safe neighborhoods for their families, and good jobs for themselves. These are just and reasonable demands of righteous people and a righteous public.But for too many of our citizens, a different reality exists: Mothers and children trapped in poverty in our inner cities; rusted-out factories scattered like tombstones across the landscape of our Nation; an education system, flush with cash, but which leaves our young and beautiful students deprived of all knowledge; and the crime and the gangs and the drugs that have stolen too many lives and robbed our country of so much unrealized potential.This American carnage stops right here and stops right now. We are one Nation, and their pain is our pain, their dreams are our dreams, and their success will be our success. We share one heart, one home, and one glorious destiny.The oath of office I take today is an oath of allegiance to all Americans.For many decades, we've enriched foreign industry at the expense of American industry, subsidized the armies of other countries while allowing for the very sad depletion of our military. We've defended other nations' borders while refusing to defend our own and spent trillions and trillions of dollars overseas while America's infrastructure has fallen into disrepair and decay. We've made other countries rich while the wealth, strength, and confidence of our country has dissipated over the horizon.One by one, the factories shuttered and left our shores, with not even a thought about the millions and millions of American workers that were left behind. The wealth of our middle class has been ripped from their homes and then redistributed all across the world.But that is the past. And now we are looking only to the future.We, assembled here today, are issuing a new decree to be heard in every city, in every foreign capital, and in every hall of power. From this day forward, a new vision will govern our land. From this this day forward, it's going to be only America first. America first.Every decision on trade, on taxes, on immigration, on foreign affairs, will be made to benefit American workers and American families.We must protect our borders from the ravages of other countries making our products, stealing our companies, and destroying our jobs. Protection will lead to great prosperity and strength. I will fight for you with every breath in my body, and I will never, ever let you down.America will start winning again, winning like never before. We will bring back our jobs. We will bring back our borders. We will bring back our wealth. And we will bring back our dreams.We will build new roads and highways and bridges and airports and tunnels and railways all across our wonderful Nation.We will get our people off of welfare and back to work, rebuilding our country with American hands and American labor. We will follow two simple rules: Buy American and hire American.We will seek friendship and good will with the nations of the world, but we do so with the understanding that it is the right of all nations to put their own interests first. We do not seek to impose our way of life on anyone, but rather to let it shine as an exampleÑwe will shineÑfor everyone to follow.We will reinforce old alliances and form new ones and unite the civilized world against radical Islamic terrorism, which we will eradicate completely from the face of the Earth.At the bedrock of our politics will be a total allegiance to the United States of America, and through our loyalty to our country, we will rediscover our loyalty to each other. When you open your heart to patriotism, there is no room for prejudice. The Bible tells us, \"How good and pleasant it is when God's people live together in unity.\" We must speak our minds openly, debate our disagreements honestly, but always pursue solidarity. When America is united, America is totally unstoppable. There should be no fear: We are protected, and we will always be protected. We will be protected by the great men and women of our military and law enforcement, and most importantly, we will be protected by God.Finally, we must think big and dream even bigger. In America, we understand that a nation is only living as long as it is striving.We will no longer accept politicians who are all talk and no action, constantly complaining, but never doing anything about it. The time for empty talk is over. Now arrives the hour of action.Do not allow anyone to tell you that it cannot be done. No challenge can match the heart and fight and spirit of America. We will not fail. Our country will thrive and prosper again.We stand at the birth of a new millennium, ready to unlock the mysteries of space, to free the Earth from the miseries of disease, and to harness the energies, industries, and technologies of tomorrow. A new national pride will stir our souls, lift our sights, and heal our divisions.It's time to remember that old wisdom our soldiers will never forget: that whether we are Black or Brown or White, we all bleed the same red blood of patriots, we all enjoy the same glorious freedoms, and we all salute the same great American flag.And whether a child is born in the urban sprawl of Detroit or the windswept plains of Nebraska, they look up at the same night sky, they fill their heart with the same dreams, and they are infused with the breath of life by the same almighty Creator.So to all Americans in every city near and far, small and large, from mountain to mountain, from ocean to ocean, hear these words: You will never be ignored again. Your voice, your hopes, and your dreams will define our American destiny. And your courage and goodness and love will forever guide us along the way.Together, we will make America strong again. We will make America wealthy again. We will make America proud again. We will make America safe again.And, yes, together, we will make America great again. Thank you. God bless you, and God bless America. Thank you. God bless America.\n"
     ]
    },
    {
     "name": "stdout",
     "output_type": "stream",
     "text": [
      "\n",
      "\n",
      "Summarized text:\n",
      "\n",
      "We the citizens of America are now joined in a great national effort to rebuild our country and restore its promise for all of our people We will get our people off of welfare and back to work rebuilding our country with American hands and American labor Chief Justice Roberts President Carter President Clinton President Bush President Obama fellow Americans and people of the world Thank you We assembled here today are issuing a new decree to be heard in every city in every foreign capital and in every hall of power When America is united America is totally unstoppable Together we will determine the course of America and the world for many many years to come We share one heart one home and one glorious destiny\n"
     ]
    }
   ],
   "source": [
    "\"\"\"\n",
    " do something here to show the data graphically or presentable \n",
    "\"\"\"\n",
    "generate_summary(speeches['content_Cleaned_1'][10], speeches['Content_Cleaned'][10])"
   ]
  },
  {
   "cell_type": "markdown",
   "metadata": {
    "_uuid": "bd90fbd12a610786d89fe5d6af135dcad3d97132"
   },
   "source": [
    "   That's awesome first step for Summarized Text !!"
   ]
  },
  {
   "cell_type": "markdown",
   "metadata": {
    "_uuid": "65c5b5c8280fdd4dc9b16fad86669cc444b5b02c"
   },
   "source": [
    "\n",
    "    "
   ]
  }
 ],
 "metadata": {
  "kernelspec": {
   "display_name": "Python 3",
   "language": "python",
   "name": "python3"
  },
  "language_info": {
   "codemirror_mode": {
    "name": "ipython",
    "version": 3
   },
   "file_extension": ".py",
   "mimetype": "text/x-python",
   "name": "python",
   "nbconvert_exporter": "python",
   "pygments_lexer": "ipython3",
   "version": "3.6.8"
  },
  "toc": {
   "base_numbering": 1,
   "nav_menu": {},
   "number_sections": true,
   "sideBar": true,
   "skip_h1_title": false,
   "title_cell": "Table of Contents",
   "title_sidebar": "Contents",
   "toc_cell": false,
   "toc_position": {},
   "toc_section_display": true,
   "toc_window_display": true
  },
  "varInspector": {
   "cols": {
    "lenName": 16,
    "lenType": 16,
    "lenVar": 40
   },
   "kernels_config": {
    "python": {
     "delete_cmd_postfix": "",
     "delete_cmd_prefix": "del ",
     "library": "var_list.py",
     "varRefreshCmd": "print(var_dic_list())"
    },
    "r": {
     "delete_cmd_postfix": ") ",
     "delete_cmd_prefix": "rm(",
     "library": "var_list.r",
     "varRefreshCmd": "cat(var_dic_list()) "
    }
   },
   "position": {
    "height": "637.86px",
    "left": "3043.33px",
    "right": "20px",
    "top": "120px",
    "width": "350px"
   },
   "types_to_exclude": [
    "module",
    "function",
    "builtin_function_or_method",
    "instance",
    "_Feature"
   ],
   "window_display": true
  }
 },
 "nbformat": 4,
 "nbformat_minor": 1
}
